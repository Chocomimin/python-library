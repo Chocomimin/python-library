{
  "nbformat": 4,
  "nbformat_minor": 0,
  "metadata": {
    "colab": {
      "provenance": []
    },
    "kernelspec": {
      "name": "python3",
      "display_name": "Python 3"
    },
    "language_info": {
      "name": "python"
    }
  },
  "cells": [
    {
      "cell_type": "code",
      "execution_count": null,
      "metadata": {
        "id": "GRNMAcnLFO7M"
      },
      "outputs": [],
      "source": []
    },
    {
      "cell_type": "markdown",
      "source": [
        "basicaly library is a collection of books in similarly libraries which is nothing but collection pricompiled code.\n",
        "here libraries can use as shortcut by this way program space will be decreases and it can save the time. we have so many libraries in python like tensorflow,matplotlib,pandas, numpy,scipy...ect\n"
      ],
      "metadata": {
        "id": "q45jFc00GHme"
      }
    },
    {
      "cell_type": "markdown",
      "source": [
        "numpy:num stands for number py stands for python.it is used in machine learning library.it consists mathematical functions\n",
        "numpy is 50X faster than traditional python lists\n",
        "for array object -ndarray\n",
        "\n"
      ],
      "metadata": {
        "id": "kuBq0T_YJZB6"
      }
    },
    {
      "cell_type": "code",
      "source": [
        "import numpy\n",
        "arr=numpy.array([1,2,3,4,5])\n",
        "print(arr)\n"
      ],
      "metadata": {
        "colab": {
          "base_uri": "https://localhost:8080/"
        },
        "id": "cxdar7QPLZCw",
        "outputId": "0cd29a37-efa3-4c1c-f6c1-7ca6a6b47543"
      },
      "execution_count": null,
      "outputs": [
        {
          "output_type": "stream",
          "name": "stdout",
          "text": [
            "[1 2 3 4 5]\n"
          ]
        }
      ]
    },
    {
      "cell_type": "markdown",
      "source": [
        "for shortcut we can use np like:\n"
      ],
      "metadata": {
        "id": "4rOb2iYMMA8X"
      }
    },
    {
      "cell_type": "code",
      "source": [
        "import numpy as np\n",
        "arr=np.array([1,2,3,4,5])\n",
        "print(arr)"
      ],
      "metadata": {
        "colab": {
          "base_uri": "https://localhost:8080/"
        },
        "id": "4JaR3oMgMm7y",
        "outputId": "ae4c898b-1914-4af1-a583-bf0abb4211fa"
      },
      "execution_count": null,
      "outputs": [
        {
          "output_type": "stream",
          "name": "stdout",
          "text": [
            "[1 2 3 4 5]\n"
          ]
        }
      ]
    },
    {
      "cell_type": "markdown",
      "source": [
        "checking numpy version:"
      ],
      "metadata": {
        "id": "_o1FVgmpMwx8"
      }
    },
    {
      "cell_type": "code",
      "source": [
        "import numpy as np\n",
        "print(np.__version__)"
      ],
      "metadata": {
        "colab": {
          "base_uri": "https://localhost:8080/"
        },
        "id": "DwaAM4XrM3Am",
        "outputId": "179221e1-4ea9-4a95-8e95-979f41eed0a5"
      },
      "execution_count": null,
      "outputs": [
        {
          "output_type": "stream",
          "name": "stdout",
          "text": [
            "1.23.5\n"
          ]
        }
      ]
    },
    {
      "cell_type": "markdown",
      "source": [
        "Use a tuple to create a NumPy array:"
      ],
      "metadata": {
        "id": "gC6IB4zvNrzi"
      }
    },
    {
      "cell_type": "code",
      "source": [
        "import numpy as np\n",
        "l1=(21,22,23,24,45,56,78)\n",
        "b1=np.array(l1)\n",
        "print(b1)"
      ],
      "metadata": {
        "colab": {
          "base_uri": "https://localhost:8080/"
        },
        "id": "Qc7LEsCggHUV",
        "outputId": "2dd21ec9-e80b-4ee2-d45b-5e03d84335a4"
      },
      "execution_count": 1,
      "outputs": [
        {
          "output_type": "stream",
          "name": "stdout",
          "text": [
            "[21 22 23 24 45 56 78]\n"
          ]
        }
      ]
    },
    {
      "cell_type": "markdown",
      "source": [
        "create a 1-D array containing the values:"
      ],
      "metadata": {
        "id": "XdYn1mIWhYSx"
      }
    },
    {
      "cell_type": "code",
      "source": [
        "import numpy as np\n",
        "l1=[21,22,23,24,45,56,78]\n",
        "b1=np.array(l1)\n",
        "print(b1)"
      ],
      "metadata": {
        "colab": {
          "base_uri": "https://localhost:8080/"
        },
        "id": "a-tDuU7shteM",
        "outputId": "548dfbb0-7be1-4fb8-8107-37ba74776b18"
      },
      "execution_count": 2,
      "outputs": [
        {
          "output_type": "stream",
          "name": "stdout",
          "text": [
            "[21 22 23 24 45 56 78]\n"
          ]
        }
      ]
    },
    {
      "cell_type": "markdown",
      "source": [
        "create a 2-D array containing the values:"
      ],
      "metadata": {
        "id": "DTLfnzfRh4hR"
      }
    },
    {
      "cell_type": "code",
      "source": [
        "import numpy as np\n",
        "l1=[[21,22,23],[24,45,56]]\n",
        "b1=np.array(l1)\n",
        "print(b1)"
      ],
      "metadata": {
        "colab": {
          "base_uri": "https://localhost:8080/"
        },
        "id": "QZhEbryxiMYm",
        "outputId": "e5574d25-96fe-463f-ac2b-5eed7cb19953"
      },
      "execution_count": 3,
      "outputs": [
        {
          "output_type": "stream",
          "name": "stdout",
          "text": [
            "[[21 22 23]\n",
            " [24 45 56]]\n"
          ]
        }
      ]
    },
    {
      "cell_type": "markdown",
      "source": [
        "create a 3-D array containing the values:"
      ],
      "metadata": {
        "id": "SLwbqcePinI0"
      }
    },
    {
      "cell_type": "code",
      "source": [
        "import numpy as np\n",
        "l1=[[21,22],[23,24],[45,56]]\n",
        "b1=np.array(l1)\n",
        "print(b1)"
      ],
      "metadata": {
        "colab": {
          "base_uri": "https://localhost:8080/"
        },
        "id": "xYVHd2e-isA5",
        "outputId": "1b22ed8d-adcf-43ec-dc71-51d0c759c34e"
      },
      "execution_count": 4,
      "outputs": [
        {
          "output_type": "stream",
          "name": "stdout",
          "text": [
            "[[21 22]\n",
            " [23 24]\n",
            " [45 56]]\n"
          ]
        }
      ]
    },
    {
      "cell_type": "markdown",
      "source": [
        "Check how many dimensions the arrays have:"
      ],
      "metadata": {
        "id": "pMdgj3r3kDVl"
      }
    },
    {
      "cell_type": "code",
      "source": [
        "import numpy as np\n",
        "l1=np.array([21,22,23,24,45,56,78])\n",
        "b1=np.array([[21,22,23],[24,45,56]])\n",
        "c1=np.array([[21,22],[23,24]])\n",
        "print(l1.ndim)\n",
        "print(b1.ndim)\n",
        "print(c1.ndim)\n"
      ],
      "metadata": {
        "colab": {
          "base_uri": "https://localhost:8080/"
        },
        "id": "Pnl3bPHWkoEk",
        "outputId": "e447fd6a-40ae-41b5-bc3c-0a365d24dd47"
      },
      "execution_count": 13,
      "outputs": [
        {
          "output_type": "stream",
          "name": "stdout",
          "text": [
            "1\n",
            "2\n",
            "2\n"
          ]
        }
      ]
    }
  ]
}